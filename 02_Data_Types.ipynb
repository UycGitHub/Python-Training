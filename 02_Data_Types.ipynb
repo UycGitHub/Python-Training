{
  "nbformat": 4,
  "nbformat_minor": 0,
  "metadata": {
    "colab": {
      "provenance": []
    },
    "kernelspec": {
      "name": "python3",
      "display_name": "Python 3"
    },
    "language_info": {
      "name": "python"
    }
  },
  "cells": [
    {
      "cell_type": "code",
      "execution_count": null,
      "metadata": {
        "colab": {
          "base_uri": "https://localhost:8080/"
        },
        "id": "es8nZUIojYOj",
        "outputId": "fd0b412a-5d75-4d15-c804-905f919c4aa5"
      },
      "outputs": [
        {
          "output_type": "stream",
          "name": "stdout",
          "text": [
            "<class 'str'>\n",
            "<class 'int'>\n",
            "<class 'float'>\n",
            "<class 'bool'>\n"
          ]
        }
      ],
      "source": [
        "name = \"Zeynep\"\n",
        "age = 23\n",
        "average = 82.5\n",
        "graduated = True\n",
        "\n",
        "print(type(name))\n",
        "print(type(age))\n",
        "print(type(average))\n",
        "print(type(graduated))"
      ]
    },
    {
      "cell_type": "code",
      "source": [
        "a = \"10\"\n",
        "b = 5\n",
        "c= int(a)\n",
        "print(b+c)"
      ],
      "metadata": {
        "colab": {
          "base_uri": "https://localhost:8080/"
        },
        "id": "ZkA3qnn4kh4-",
        "outputId": "a231bc99-39e9-4ea5-f998-11d10c5b894b"
      },
      "execution_count": null,
      "outputs": [
        {
          "output_type": "stream",
          "name": "stdout",
          "text": [
            "15\n"
          ]
        }
      ]
    },
    {
      "cell_type": "code",
      "source": [
        "list = [10, 20, 30, 40]\n",
        "\n",
        "print(len(list))\n",
        "print(list[0])\n",
        "print(list[3])"
      ],
      "metadata": {
        "id": "1rCiKxvplJno",
        "colab": {
          "base_uri": "https://localhost:8080/"
        },
        "outputId": "56a96220-3077-489d-c0fd-d0154da8c449"
      },
      "execution_count": null,
      "outputs": [
        {
          "output_type": "stream",
          "name": "stdout",
          "text": [
            "4\n",
            "10\n",
            "40\n"
          ]
        }
      ]
    },
    {
      "cell_type": "code",
      "source": [
        "numberFromUser = input(\"Please enter a number (integer or float): \")\n",
        "\n",
        "floatVersion = float(numberFromUser)\n",
        "intVersion = int(floatVersion)\n",
        "\n",
        "print(\"Integer version:\", intVersion)\n",
        "print(\"Float version:\", floatVersion)\n",
        "\n"
      ],
      "metadata": {
        "colab": {
          "base_uri": "https://localhost:8080/"
        },
        "id": "nT92Nr2fsyjE",
        "outputId": "0616233a-ec8e-4e2d-c29b-cd24ed37e537"
      },
      "execution_count": null,
      "outputs": [
        {
          "output_type": "stream",
          "name": "stdout",
          "text": [
            "Please enter a number (integer or float): 12.5\n",
            "Integer version: 12\n",
            "Float version: 12.5\n"
          ]
        }
      ]
    }
  ]
}