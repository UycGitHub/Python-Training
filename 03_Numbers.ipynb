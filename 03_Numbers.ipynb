{
  "nbformat": 4,
  "nbformat_minor": 0,
  "metadata": {
    "colab": {
      "provenance": []
    },
    "kernelspec": {
      "name": "python3",
      "display_name": "Python 3"
    },
    "language_info": {
      "name": "python"
    }
  },
  "cells": [
    {
      "cell_type": "code",
      "execution_count": 2,
      "metadata": {
        "colab": {
          "base_uri": "https://localhost:8080/"
        },
        "id": "oA_CjG0wIPtL",
        "outputId": "662f8acc-a7ea-4fef-8132-574a43317ae6"
      },
      "outputs": [
        {
          "output_type": "stream",
          "name": "stdout",
          "text": [
            "7.5\n"
          ]
        }
      ],
      "source": [
        "intNumber = 5\n",
        "floatNumber = 2.5\n",
        "print(intNumber + floatNumber)"
      ]
    },
    {
      "cell_type": "code",
      "source": [
        "intNumber = int(input(\"Lütfen bir tamsayı giriniz\"))\n",
        "floatNumber = float(input(\"Lütfen bir kesirli sayı giriniz\"))\n",
        "\n",
        "print(intNumber * floatNumber)\n",
        "print(intNumber - floatNumber)"
      ],
      "metadata": {
        "colab": {
          "base_uri": "https://localhost:8080/"
        },
        "id": "C85bOZanIxjD",
        "outputId": "909966e9-a6a4-4dad-d0c0-696dda5e5a37"
      },
      "execution_count": 6,
      "outputs": [
        {
          "output_type": "stream",
          "name": "stdout",
          "text": [
            "Lütfen bir tamsayı giriniz11\n",
            "Lütfen bir kesirli sayı giriniz5.5\n",
            "60.5\n",
            "5.5\n"
          ]
        }
      ]
    },
    {
      "cell_type": "code",
      "source": [
        "complexNumber = 3 + 5j\n",
        "\n",
        "print(\"Gerçek kısmı\", complexNumber.real)\n",
        "print(\"Sanal kısmı\", complexNumber.imag)"
      ],
      "metadata": {
        "colab": {
          "base_uri": "https://localhost:8080/"
        },
        "id": "OX_OsQwuJl6r",
        "outputId": "75c7d179-7586-4296-b6d6-32c6dc441c1e"
      },
      "execution_count": 8,
      "outputs": [
        {
          "output_type": "stream",
          "name": "stdout",
          "text": [
            "Gerçek kısmı 3.0\n",
            "Sanal kısmı 5.0\n"
          ]
        }
      ]
    },
    {
      "cell_type": "code",
      "source": [
        "floatVersion = 5.5\n",
        "intVersion = int(floatVersion)\n",
        "print(intVersion)"
      ],
      "metadata": {
        "colab": {
          "base_uri": "https://localhost:8080/"
        },
        "id": "r98ID5iVLNiN",
        "outputId": "5ba2a0af-15f6-4d85-c57e-f2ad9ca1039f"
      },
      "execution_count": 10,
      "outputs": [
        {
          "output_type": "stream",
          "name": "stdout",
          "text": [
            "5\n"
          ]
        }
      ]
    },
    {
      "cell_type": "code",
      "source": [
        "a = 5\n",
        "b = 2\n",
        "print(a / b)\n",
        "print(a // b)"
      ],
      "metadata": {
        "colab": {
          "base_uri": "https://localhost:8080/"
        },
        "id": "6hIU7aTsLcpj",
        "outputId": "4c88c450-053c-4f6a-868b-e7d03253035b"
      },
      "execution_count": 11,
      "outputs": [
        {
          "output_type": "stream",
          "name": "stdout",
          "text": [
            "2.5\n",
            "2\n"
          ]
        }
      ]
    }
  ]
}