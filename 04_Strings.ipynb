{
  "nbformat": 4,
  "nbformat_minor": 0,
  "metadata": {
    "colab": {
      "provenance": []
    },
    "kernelspec": {
      "name": "python3",
      "display_name": "Python 3"
    },
    "language_info": {
      "name": "python"
    }
  },
  "cells": [
    {
      "cell_type": "code",
      "execution_count": 4,
      "metadata": {
        "colab": {
          "base_uri": "https://localhost:8080/"
        },
        "id": "nISUlioo_jQN",
        "outputId": "7633f8fa-4068-4b64-9102-08cf37ce8155"
      },
      "outputs": [
        {
          "output_type": "stream",
          "name": "stdout",
          "text": [
            "please enter your name: umut\n",
            "UMUT\n"
          ]
        }
      ],
      "source": [
        "name = input(\"please enter your name: \")\n",
        "print(name.upper())"
      ]
    },
    {
      "cell_type": "code",
      "source": [
        "word = input(\"Please enter a word: \")\n",
        "lengthOfWord = len(word)\n",
        "print(f\"Length of the word: {lengthOfWord}\")"
      ],
      "metadata": {
        "colab": {
          "base_uri": "https://localhost:8080/"
        },
        "id": "mVWge807ABYI",
        "outputId": "05c44ee5-d1fd-465f-c736-ec8a15464198"
      },
      "execution_count": 5,
      "outputs": [
        {
          "output_type": "stream",
          "name": "stdout",
          "text": [
            "Please enter a word: Umut Yusuf\n",
            "Length of the word: 10\n"
          ]
        }
      ]
    },
    {
      "cell_type": "code",
      "source": [
        "kelime = input(\"Lütfen bir kelime giriniz: \")\n",
        "print(\"Kelimenin ilk harfi\",kelime[0])\n",
        "print(\"Kelimenin son harfi\", kelime[-1])"
      ],
      "metadata": {
        "colab": {
          "base_uri": "https://localhost:8080/"
        },
        "id": "ClVRiKQGA1dt",
        "outputId": "910a8edd-e8a3-4ed8-e672-de20fb3a62ee"
      },
      "execution_count": 6,
      "outputs": [
        {
          "output_type": "stream",
          "name": "stdout",
          "text": [
            "Lütfen bir kelime giriniz: Elifnaz\n",
            "Kelimenin ilk harfi E\n",
            "Kelimenin son harfi z\n"
          ]
        }
      ]
    },
    {
      "cell_type": "code",
      "source": [
        "cumle = input(\"Lütfen bir cümle giriniz:\")\n",
        "degistirilmisCumle = cumle.replace(\" \", \"-\")\n",
        "print(degistirilmisCumle)"
      ],
      "metadata": {
        "colab": {
          "base_uri": "https://localhost:8080/"
        },
        "id": "NF3tkPpTBsSe",
        "outputId": "ea62cdbf-6da2-4643-fe10-b7e2c0c8e464"
      },
      "execution_count": 7,
      "outputs": [
        {
          "output_type": "stream",
          "name": "stdout",
          "text": [
            "Lütfen bir cümle giriniz:Umut Yusuf Çınar\n",
            "Umut-Yusuf-Çınar\n"
          ]
        }
      ]
    },
    {
      "cell_type": "code",
      "source": [
        "userString = input(\"Please enter a string\")\n",
        "letterCounterforA = 0\n",
        "for x in userString:\n",
        "  if x == \"a\" or x == \"A\":\n",
        "    letterCounterforA += 1\n",
        "\n",
        "print(f\"Bu cümlede {letterCounterforA} tane a harfi bulunmaktadır.\")"
      ],
      "metadata": {
        "colab": {
          "base_uri": "https://localhost:8080/"
        },
        "id": "08SzCMODCYIo",
        "outputId": "7e31e8c7-aa64-4ef3-815a-40fdbe18287a"
      },
      "execution_count": 9,
      "outputs": [
        {
          "output_type": "stream",
          "name": "stdout",
          "text": [
            "Please enter a stringMustafa Çınar\n",
            "Bu cümlede 3 tane a harfi bulunmaktadır.\n"
          ]
        }
      ]
    }
  ]
}