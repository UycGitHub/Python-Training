{
  "nbformat": 4,
  "nbformat_minor": 0,
  "metadata": {
    "colab": {
      "provenance": []
    },
    "kernelspec": {
      "name": "python3",
      "display_name": "Python 3"
    },
    "language_info": {
      "name": "python"
    }
  },
  "cells": [
    {
      "cell_type": "code",
      "execution_count": null,
      "metadata": {
        "colab": {
          "base_uri": "https://localhost:8080/"
        },
        "id": "ZdbMLk7Ely7a",
        "outputId": "bd4ee790-8720-4426-b5d8-98ff96be6315"
      },
      "outputs": [
        {
          "output_type": "stream",
          "name": "stdout",
          "text": [
            "Ahmet\n",
            "20\n",
            "Computer Engineering\n"
          ]
        }
      ],
      "source": [
        "studentName = \"Ahmet\"\n",
        "studentAge = 20\n",
        "studentSection = \"Computer Engineering\"\n",
        "\n",
        "print(studentName)\n",
        "print(studentAge)\n",
        "print(studentSection )"
      ]
    },
    {
      "cell_type": "code",
      "source": [
        "productName = \"Pencil\"\n",
        "productPrice = 7.5\n",
        "print(productName +\" product price: \" + str(productPrice) + \" $\" )"
      ],
      "metadata": {
        "colab": {
          "base_uri": "https://localhost:8080/"
        },
        "id": "57rk8EH_mhud",
        "outputId": "7ebdafda-9551-485c-804b-2da9c43de7f4"
      },
      "execution_count": null,
      "outputs": [
        {
          "output_type": "stream",
          "name": "stdout",
          "text": [
            "Pencil product price: 7.5 $\n"
          ]
        }
      ]
    },
    {
      "cell_type": "code",
      "source": [
        "number1 = 10\n",
        "number2 = 25\n",
        "sum = number1 + number2\n",
        "difference = number1 - number2\n",
        "multiplication = number1 * number2\n",
        "division = number1/number2\n",
        "\n",
        "print(sum)\n",
        "print(difference)\n",
        "print(multiplication)\n",
        "print(division)"
      ],
      "metadata": {
        "colab": {
          "base_uri": "https://localhost:8080/"
        },
        "id": "GwiZB-SfkCcs",
        "outputId": "981d8de2-b7d7-44a2-e655-a6215aa224fb"
      },
      "execution_count": null,
      "outputs": [
        {
          "output_type": "stream",
          "name": "stdout",
          "text": [
            "35\n",
            "-15\n",
            "250\n",
            "0.4\n"
          ]
        }
      ]
    },
    {
      "cell_type": "code",
      "source": [
        "name = \"Ali Kağan\"\n",
        "lastName = \"Uyanık\"\n",
        "birthDate = 2001\n",
        "currentDate = 2025\n",
        "age = currentDate - birthDate\n",
        "print(name + \" \" + lastName + \" \" + str(age) + \" yaşındadır.\")"
      ],
      "metadata": {
        "colab": {
          "base_uri": "https://localhost:8080/"
        },
        "id": "QP-JUbc7wpia",
        "outputId": "5f1a2cb9-6bc8-4407-f124-d193b3244ea3"
      },
      "execution_count": null,
      "outputs": [
        {
          "output_type": "stream",
          "name": "stdout",
          "text": [
            "Ali Kağan Uyanık 24 yaşındadır.\n"
          ]
        }
      ]
    },
    {
      "cell_type": "code",
      "source": [
        "pi = 3.14\n",
        "radius = 5\n",
        "area = pi * radius * radius\n",
        "print(area)"
      ],
      "metadata": {
        "colab": {
          "base_uri": "https://localhost:8080/"
        },
        "id": "H_ldnfuqxHW9",
        "outputId": "90b27c16-e79f-4a67-9fbd-19657d846265"
      },
      "execution_count": null,
      "outputs": [
        {
          "output_type": "stream",
          "name": "stdout",
          "text": [
            "78.5\n"
          ]
        }
      ]
    }
  ]
}