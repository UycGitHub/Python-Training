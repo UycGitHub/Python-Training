{
  "nbformat": 4,
  "nbformat_minor": 0,
  "metadata": {
    "colab": {
      "provenance": []
    },
    "kernelspec": {
      "name": "python3",
      "display_name": "Python 3"
    },
    "language_info": {
      "name": "python"
    }
  },
  "cells": [
    {
      "cell_type": "code",
      "execution_count": 4,
      "metadata": {
        "colab": {
          "base_uri": "https://localhost:8080/"
        },
        "id": "wmJCtC2W8WW2",
        "outputId": "4c550be0-1a33-4336-ec21-a69f317f7661"
      },
      "outputs": [
        {
          "output_type": "stream",
          "name": "stdout",
          "text": [
            "Lütfen yaşınızı giriniz: -5\n",
            "Reşit değilsiniz\n"
          ]
        }
      ],
      "source": [
        "age = input(\"Lütfen yaşınızı giriniz: \")\n",
        "\n",
        "if int(age) >= 18:\n",
        "  print(\"Reşitsiniz\")\n",
        "else:\n",
        "  print(\"Reşit değilsiniz\")"
      ]
    },
    {
      "cell_type": "code",
      "source": [
        "number = input(\"Lütfen bir tamsayı giriniz: \")\n",
        "if int(number)>0:\n",
        "  print(\"Tamsayı pozitif\")\n",
        "else:\n",
        "  print(\"Pozitif bir tamsayı girilmedi.\")"
      ],
      "metadata": {
        "colab": {
          "base_uri": "https://localhost:8080/"
        },
        "id": "oDY5HONr9zTn",
        "outputId": "922ad672-4261-42b3-b339-38a74073419a"
      },
      "execution_count": 7,
      "outputs": [
        {
          "output_type": "stream",
          "name": "stdout",
          "text": [
            "Lütfen bir tamsayı giriniz: 25\n",
            "Tamsayı pozitif\n"
          ]
        }
      ]
    },
    {
      "cell_type": "code",
      "source": [
        "age1 = int(input(\"Lütfen bir tamsayı giriniz: \"))\n",
        "age2 = int(input(\"Lütfen bir tamsayı daha giriniz:\"))\n",
        "\n",
        "if age1 % 2 == 0 and age2 % 2 == 0:\n",
        "  print(\"Bu iki tamsayı da çift.\")\n",
        "else:\n",
        "  print(\"İki adet çift tamsayı girişi yapılmadı.\")\n"
      ],
      "metadata": {
        "colab": {
          "base_uri": "https://localhost:8080/"
        },
        "id": "AqvvmGzB-TJW",
        "outputId": "66b39761-63a7-4e33-935e-97ef49d3706e"
      },
      "execution_count": 11,
      "outputs": [
        {
          "output_type": "stream",
          "name": "stdout",
          "text": [
            "Lütfen bir tamsayı giriniz: -4\n",
            "Lütfen bir tamsayı daha giriniz:-6\n",
            "Bu iki tamsayı da çift.\n"
          ]
        }
      ]
    },
    {
      "cell_type": "code",
      "source": [
        "mail = input(\"Lütfen mail adresinizi giriniz:\")\n",
        "if (\"@\"in mail) and (\".\" in mail):\n",
        "  print(\"mail adresi tanımlaması doğru olabilir.\")\n",
        "else:\n",
        "  print(\"Mail adresi tanımlaması doğru olamaz.\")"
      ],
      "metadata": {
        "colab": {
          "base_uri": "https://localhost:8080/"
        },
        "id": "_28IFECF_P7r",
        "outputId": "22838344-2eef-4d5b-a77a-f83c4bb9643d"
      },
      "execution_count": 14,
      "outputs": [
        {
          "output_type": "stream",
          "name": "stdout",
          "text": [
            "Lütfen mail adresinizi giriniz:umutyusufcinar\n",
            "Mail adresi tanımlaması doğru olamaz.\n"
          ]
        }
      ]
    },
    {
      "cell_type": "code",
      "source": [
        "studentMark = int(input(\"Lütfen sınav notunuzu giriniz: \"))\n",
        "\n",
        "if studentMark>=50 and studentMark <= 100:\n",
        "  print(\"Sınavdan geçtiniz!\")\n",
        "elif studentMark>=0 and studentMark < 50:\n",
        "  print(\"Sınavdan kaldınız :(\")\n",
        "else:\n",
        "  print(\"Geçersiz giriş yapıldı.\")"
      ],
      "metadata": {
        "colab": {
          "base_uri": "https://localhost:8080/"
        },
        "id": "KAtwOK7JAbO6",
        "outputId": "4e6d582e-1880-4aec-85c0-4476d1cc6648"
      },
      "execution_count": 24,
      "outputs": [
        {
          "output_type": "stream",
          "name": "stdout",
          "text": [
            "Lütfen sınav notunuzu giriniz: 105\n",
            "Geçersiz giriş yapıldı.\n"
          ]
        }
      ]
    }
  ]
}