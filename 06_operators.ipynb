{
  "nbformat": 4,
  "nbformat_minor": 0,
  "metadata": {
    "colab": {
      "provenance": []
    },
    "kernelspec": {
      "name": "python3",
      "display_name": "Python 3"
    },
    "language_info": {
      "name": "python"
    }
  },
  "cells": [
    {
      "cell_type": "code",
      "execution_count": 1,
      "metadata": {
        "colab": {
          "base_uri": "https://localhost:8080/"
        },
        "id": "p71bgAXGQyls",
        "outputId": "d8f6f888-73af-46d7-b809-112195e37378"
      },
      "outputs": [
        {
          "output_type": "stream",
          "name": "stdout",
          "text": [
            "Lütfen ilk tamsayıyı giriniz: 5\n",
            "Lütfen ikinci tamsayıyı giriniz: 3\n",
            "8\n",
            "2\n",
            "15\n",
            "1.6666666666666667\n",
            "2\n"
          ]
        }
      ],
      "source": [
        "number1 = int(input(\"Lütfen ilk tamsayıyı giriniz: \"))\n",
        "number2 = int(input(\"Lütfen ikinci tamsayıyı giriniz: \"))\n",
        "\n",
        "sum = number1 + number2\n",
        "diff = number1 - number2\n",
        "multiple = number1 * number2\n",
        "divide = number1/number2\n",
        "mod = number1%number2\n",
        "\n",
        "print(sum)\n",
        "print(diff)\n",
        "print(multiple)\n",
        "print(divide)\n",
        "print(mod)"
      ]
    },
    {
      "cell_type": "code",
      "source": [
        "number = int(input(\"Lütfen bir tamsayı giriniz: \"))\n",
        "\n",
        "if (number % 2 == 0) and (number % 3 == 0):\n",
        "  print(\"Sayı iki ve üçe tam bölünüyor\")\n",
        "else:\n",
        "  print(\"Sayı iki ve üçe tam bölünmüyor\")"
      ],
      "metadata": {
        "colab": {
          "base_uri": "https://localhost:8080/"
        },
        "id": "fR4Omu65SB5e",
        "outputId": "34ed0075-d14d-4e4b-8f8f-b8ae380284e3"
      },
      "execution_count": 10,
      "outputs": [
        {
          "output_type": "stream",
          "name": "stdout",
          "text": [
            "Lütfen bir tamsayı giriniz: 36\n",
            "Sayı iki ve üçe tam bölünüyor\n"
          ]
        }
      ]
    },
    {
      "cell_type": "code",
      "source": [
        "age = int(input(\"Lütfen yaşınızı tamsayı olarak giriniz: \"))\n",
        "if (age >= 18) and (age<65):\n",
        "  print(\"Çalışma çağındasınız.\")\n",
        "else:\n",
        "  print(\"Çalışma çağında değilsiniz.\")"
      ],
      "metadata": {
        "colab": {
          "base_uri": "https://localhost:8080/"
        },
        "id": "OAvXiEE8S7gd",
        "outputId": "ec3602f8-3f19-42f2-a2ad-695a9b2e1278"
      },
      "execution_count": 16,
      "outputs": [
        {
          "output_type": "stream",
          "name": "stdout",
          "text": [
            "Lütfen yaşınızı tamsayı olarak giriniz: 90\n",
            "Çalışma çağında değilsiniz.\n"
          ]
        }
      ]
    },
    {
      "cell_type": "code",
      "source": [
        "number = float(input(\"Lütfen bir sayı giriniz: \"))\n",
        "\n",
        "if(number>0):\n",
        "  print(\"Sayı pozitif\")\n",
        "elif(number<0):\n",
        "  print(\"Sayı negatif\")\n",
        "else:\n",
        "  print(\"Sayı sıfır\")"
      ],
      "metadata": {
        "colab": {
          "base_uri": "https://localhost:8080/"
        },
        "id": "VVbHRQ2hTbyR",
        "outputId": "3a3dfe79-498f-4df1-9f6b-1edbbc4f1629"
      },
      "execution_count": 23,
      "outputs": [
        {
          "output_type": "stream",
          "name": "stdout",
          "text": [
            "Lütfen bir sayı giriniz: 0.00\n",
            "Sayı sıfır\n"
          ]
        }
      ]
    },
    {
      "cell_type": "code",
      "source": [
        "studentMark = int(input(\"Lütfen ders notunuzu tamsayı olarak giriniz: \"))\n",
        "if(studentMark>=90) and (studentMark<=100):\n",
        "  print(\"A\")\n",
        "elif(studentMark>=80) and (studentMark<90):\n",
        "  print(\"B\")\n",
        "elif(studentMark>=70) and (studentMark<80):\n",
        "  print(\"C\")\n",
        "elif(studentMark>=60) and (studentMark<70):\n",
        "  print(\"D\")\n",
        "elif(studentMark>=0) and (studentMark<60):\n",
        "  print(\"F\")\n",
        "else:\n",
        "  print(\"Geçersiz bir not girişi\")"
      ],
      "metadata": {
        "colab": {
          "base_uri": "https://localhost:8080/"
        },
        "id": "fEsftr94UgqV",
        "outputId": "c7cabcaa-85ba-4956-9f84-8a75613887fc"
      },
      "execution_count": 42,
      "outputs": [
        {
          "output_type": "stream",
          "name": "stdout",
          "text": [
            "Lütfen ders notunuzu tamsayı olarak giriniz: 105\n",
            "Geçersiz bir not girişi\n"
          ]
        }
      ]
    }
  ]
}